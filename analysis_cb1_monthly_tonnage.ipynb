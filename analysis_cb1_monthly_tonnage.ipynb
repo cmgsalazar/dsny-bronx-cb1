{
 "cells": [
  {
   "cell_type": "code",
   "execution_count": 1,
   "id": "14fdda1d-3606-40d9-aa18-f50a9b31e8ea",
   "metadata": {},
   "outputs": [],
   "source": [
    "import pandas as pd"
   ]
  },
  {
   "cell_type": "code",
   "execution_count": 2,
   "id": "42f71542-2d3b-4b49-a6d6-9a9bfc3457b0",
   "metadata": {},
   "outputs": [
    {
     "data": {
      "text/plain": [
       "MONTH                   object\n",
       "REFUSETONSCOLLECTED    float64\n",
       "PAPERTONSCOLLECTED     float64\n",
       "MGPTONSCOLLECTED       float64\n",
       "dtype: object"
      ]
     },
     "execution_count": 2,
     "metadata": {},
     "output_type": "execute_result"
    }
   ],
   "source": [
    "df = pd.read_csv(\"parsed-data/cb1_2024_monthly_tonnage.csv\")\n",
    "df.dtypes"
   ]
  },
  {
   "cell_type": "code",
   "execution_count": 3,
   "id": "40662d93-f778-4349-8f06-1255e91e5ef9",
   "metadata": {},
   "outputs": [
    {
     "data": {
      "text/plain": [
       "19168.899999999998"
      ]
     },
     "execution_count": 3,
     "metadata": {},
     "output_type": "execute_result"
    }
   ],
   "source": [
    "df[\"REFUSETONSCOLLECTED\"].sum()"
   ]
  },
  {
   "cell_type": "code",
   "execution_count": 4,
   "id": "52f45949-4d1e-46a9-801c-2702aa8fc8e8",
   "metadata": {},
   "outputs": [
    {
     "data": {
      "text/plain": [
       "1040.0"
      ]
     },
     "execution_count": 4,
     "metadata": {},
     "output_type": "execute_result"
    }
   ],
   "source": [
    "df[\"PAPERTONSCOLLECTED\"].sum()"
   ]
  },
  {
   "cell_type": "code",
   "execution_count": 5,
   "id": "73ae35b0-eac8-4873-b2cf-90cb7c7cb7ae",
   "metadata": {},
   "outputs": [
    {
     "data": {
      "text/plain": [
       "1103.7"
      ]
     },
     "execution_count": 5,
     "metadata": {},
     "output_type": "execute_result"
    }
   ],
   "source": [
    "df[\"MGPTONSCOLLECTED\"].sum()"
   ]
  },
  {
   "cell_type": "code",
   "execution_count": null,
   "id": "59640ed9-4c0e-4d67-8161-7f94db547123",
   "metadata": {},
   "outputs": [],
   "source": []
  }
 ],
 "metadata": {
  "kernelspec": {
   "display_name": "Python 3 (ipykernel)",
   "language": "python",
   "name": "python3"
  },
  "language_info": {
   "codemirror_mode": {
    "name": "ipython",
    "version": 3
   },
   "file_extension": ".py",
   "mimetype": "text/x-python",
   "name": "python",
   "nbconvert_exporter": "python",
   "pygments_lexer": "ipython3",
   "version": "3.11.8"
  }
 },
 "nbformat": 4,
 "nbformat_minor": 5
}
