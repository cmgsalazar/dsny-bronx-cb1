{
 "cells": [
  {
   "cell_type": "code",
   "execution_count": 1,
   "id": "c18e3eb2-73c3-4355-8a9d-81d09ee1b5ef",
   "metadata": {},
   "outputs": [],
   "source": [
    "import pandas as pd"
   ]
  },
  {
   "cell_type": "code",
   "execution_count": 2,
   "id": "a6bbfda7-470c-483c-9c93-a49ccb16dd44",
   "metadata": {},
   "outputs": [
    {
     "data": {
      "text/plain": [
       "MONTH                   object\n",
       "COMMUNITYDISTRICT        int64\n",
       "REFUSETONSCOLLECTED    float64\n",
       "PAPERTONSCOLLECTED     float64\n",
       "MGPTONSCOLLECTED       float64\n",
       "dtype: object"
      ]
     },
     "execution_count": 2,
     "metadata": {},
     "output_type": "execute_result"
    }
   ],
   "source": [
    "df = pd.read_csv(\"parsed-data/bx_2024_monthly_tonnage.csv\")\n",
    "df.dtypes"
   ]
  },
  {
   "cell_type": "code",
   "execution_count": 3,
   "id": "18659fdf-cb16-4ccf-ba4e-f6f8927a86f6",
   "metadata": {},
   "outputs": [
    {
     "data": {
      "text/html": [
       "<div>\n",
       "<style scoped>\n",
       "    .dataframe tbody tr th:only-of-type {\n",
       "        vertical-align: middle;\n",
       "    }\n",
       "\n",
       "    .dataframe tbody tr th {\n",
       "        vertical-align: top;\n",
       "    }\n",
       "\n",
       "    .dataframe thead th {\n",
       "        text-align: right;\n",
       "    }\n",
       "</style>\n",
       "<table border=\"1\" class=\"dataframe\">\n",
       "  <thead>\n",
       "    <tr style=\"text-align: right;\">\n",
       "      <th></th>\n",
       "      <th>MONTH</th>\n",
       "      <th>COMMUNITYDISTRICT</th>\n",
       "      <th>REFUSETONSCOLLECTED</th>\n",
       "      <th>PAPERTONSCOLLECTED</th>\n",
       "      <th>MGPTONSCOLLECTED</th>\n",
       "    </tr>\n",
       "  </thead>\n",
       "  <tbody>\n",
       "    <tr>\n",
       "      <th>4838</th>\n",
       "      <td>2024 / 09</td>\n",
       "      <td>6</td>\n",
       "      <td>543.0</td>\n",
       "      <td>33.9</td>\n",
       "      <td>41.4</td>\n",
       "    </tr>\n",
       "    <tr>\n",
       "      <th>4836</th>\n",
       "      <td>2024 / 09</td>\n",
       "      <td>1</td>\n",
       "      <td>548.1</td>\n",
       "      <td>28.1</td>\n",
       "      <td>29.2</td>\n",
       "    </tr>\n",
       "    <tr>\n",
       "      <th>4818</th>\n",
       "      <td>2024 / 09</td>\n",
       "      <td>2</td>\n",
       "      <td>353.3</td>\n",
       "      <td>21.5</td>\n",
       "      <td>30.9</td>\n",
       "    </tr>\n",
       "    <tr>\n",
       "      <th>4817</th>\n",
       "      <td>2024 / 09</td>\n",
       "      <td>10</td>\n",
       "      <td>619.3</td>\n",
       "      <td>60.6</td>\n",
       "      <td>74.7</td>\n",
       "    </tr>\n",
       "    <tr>\n",
       "      <th>4832</th>\n",
       "      <td>2024 / 09</td>\n",
       "      <td>9</td>\n",
       "      <td>876.9</td>\n",
       "      <td>46.5</td>\n",
       "      <td>84.4</td>\n",
       "    </tr>\n",
       "    <tr>\n",
       "      <th>...</th>\n",
       "      <td>...</td>\n",
       "      <td>...</td>\n",
       "      <td>...</td>\n",
       "      <td>...</td>\n",
       "      <td>...</td>\n",
       "    </tr>\n",
       "    <tr>\n",
       "      <th>577</th>\n",
       "      <td>1991 / 01</td>\n",
       "      <td>12</td>\n",
       "      <td>1267.1</td>\n",
       "      <td>NaN</td>\n",
       "      <td>NaN</td>\n",
       "    </tr>\n",
       "    <tr>\n",
       "      <th>578</th>\n",
       "      <td>1991 / 01</td>\n",
       "      <td>10</td>\n",
       "      <td>696.0</td>\n",
       "      <td>NaN</td>\n",
       "      <td>NaN</td>\n",
       "    </tr>\n",
       "    <tr>\n",
       "      <th>1787</th>\n",
       "      <td>1991 / 01</td>\n",
       "      <td>6</td>\n",
       "      <td>654.4</td>\n",
       "      <td>NaN</td>\n",
       "      <td>NaN</td>\n",
       "    </tr>\n",
       "    <tr>\n",
       "      <th>2956</th>\n",
       "      <td>1991 / 01</td>\n",
       "      <td>8</td>\n",
       "      <td>25.3</td>\n",
       "      <td>NaN</td>\n",
       "      <td>NaN</td>\n",
       "    </tr>\n",
       "    <tr>\n",
       "      <th>1786</th>\n",
       "      <td>1991 / 01</td>\n",
       "      <td>9</td>\n",
       "      <td>1597.3</td>\n",
       "      <td>NaN</td>\n",
       "      <td>NaN</td>\n",
       "    </tr>\n",
       "  </tbody>\n",
       "</table>\n",
       "<p>4839 rows × 5 columns</p>\n",
       "</div>"
      ],
      "text/plain": [
       "          MONTH  COMMUNITYDISTRICT  REFUSETONSCOLLECTED  PAPERTONSCOLLECTED  \\\n",
       "4838  2024 / 09                  6                543.0                33.9   \n",
       "4836  2024 / 09                  1                548.1                28.1   \n",
       "4818  2024 / 09                  2                353.3                21.5   \n",
       "4817  2024 / 09                 10                619.3                60.6   \n",
       "4832  2024 / 09                  9                876.9                46.5   \n",
       "...         ...                ...                  ...                 ...   \n",
       "577   1991 / 01                 12               1267.1                 NaN   \n",
       "578   1991 / 01                 10                696.0                 NaN   \n",
       "1787  1991 / 01                  6                654.4                 NaN   \n",
       "2956  1991 / 01                  8                 25.3                 NaN   \n",
       "1786  1991 / 01                  9               1597.3                 NaN   \n",
       "\n",
       "      MGPTONSCOLLECTED  \n",
       "4838              41.4  \n",
       "4836              29.2  \n",
       "4818              30.9  \n",
       "4817              74.7  \n",
       "4832              84.4  \n",
       "...                ...  \n",
       "577                NaN  \n",
       "578                NaN  \n",
       "1787               NaN  \n",
       "2956               NaN  \n",
       "1786               NaN  \n",
       "\n",
       "[4839 rows x 5 columns]"
      ]
     },
     "execution_count": 3,
     "metadata": {},
     "output_type": "execute_result"
    }
   ],
   "source": [
    "df.sort_values(\"MONTH\", ascending=False)"
   ]
  },
  {
   "cell_type": "code",
   "execution_count": 4,
   "id": "cd98c6b5-7d9b-47b7-b85c-b509024da6eb",
   "metadata": {},
   "outputs": [
    {
     "data": {
      "text/html": [
       "<div>\n",
       "<style scoped>\n",
       "    .dataframe tbody tr th:only-of-type {\n",
       "        vertical-align: middle;\n",
       "    }\n",
       "\n",
       "    .dataframe tbody tr th {\n",
       "        vertical-align: top;\n",
       "    }\n",
       "\n",
       "    .dataframe thead th {\n",
       "        text-align: right;\n",
       "    }\n",
       "</style>\n",
       "<table border=\"1\" class=\"dataframe\">\n",
       "  <thead>\n",
       "    <tr style=\"text-align: right;\">\n",
       "      <th></th>\n",
       "      <th>MONTH</th>\n",
       "      <th>COMMUNITYDISTRICT</th>\n",
       "      <th>REFUSETONSCOLLECTED</th>\n",
       "      <th>PAPERTONSCOLLECTED</th>\n",
       "      <th>MGPTONSCOLLECTED</th>\n",
       "    </tr>\n",
       "  </thead>\n",
       "  <tbody>\n",
       "    <tr>\n",
       "      <th>570</th>\n",
       "      <td>2024 / 02</td>\n",
       "      <td>7</td>\n",
       "      <td>3233.3</td>\n",
       "      <td>246.7</td>\n",
       "      <td>387.3</td>\n",
       "    </tr>\n",
       "    <tr>\n",
       "      <th>1036</th>\n",
       "      <td>2024 / 07</td>\n",
       "      <td>2</td>\n",
       "      <td>1651.4</td>\n",
       "      <td>89.4</td>\n",
       "      <td>123.9</td>\n",
       "    </tr>\n",
       "    <tr>\n",
       "      <th>4728</th>\n",
       "      <td>2024 / 01</td>\n",
       "      <td>5</td>\n",
       "      <td>3389.6</td>\n",
       "      <td>223.2</td>\n",
       "      <td>334.1</td>\n",
       "    </tr>\n",
       "    <tr>\n",
       "      <th>4730</th>\n",
       "      <td>2024 / 01</td>\n",
       "      <td>4</td>\n",
       "      <td>4032.6</td>\n",
       "      <td>250.7</td>\n",
       "      <td>337.1</td>\n",
       "    </tr>\n",
       "    <tr>\n",
       "      <th>4731</th>\n",
       "      <td>2024 / 01</td>\n",
       "      <td>12</td>\n",
       "      <td>3819.6</td>\n",
       "      <td>319.7</td>\n",
       "      <td>572.0</td>\n",
       "    </tr>\n",
       "    <tr>\n",
       "      <th>...</th>\n",
       "      <td>...</td>\n",
       "      <td>...</td>\n",
       "      <td>...</td>\n",
       "      <td>...</td>\n",
       "      <td>...</td>\n",
       "    </tr>\n",
       "    <tr>\n",
       "      <th>4834</th>\n",
       "      <td>2024 / 08</td>\n",
       "      <td>4</td>\n",
       "      <td>4139.1</td>\n",
       "      <td>240.2</td>\n",
       "      <td>317.3</td>\n",
       "    </tr>\n",
       "    <tr>\n",
       "      <th>4835</th>\n",
       "      <td>2024 / 07</td>\n",
       "      <td>11</td>\n",
       "      <td>3440.1</td>\n",
       "      <td>263.1</td>\n",
       "      <td>323.9</td>\n",
       "    </tr>\n",
       "    <tr>\n",
       "      <th>4836</th>\n",
       "      <td>2024 / 09</td>\n",
       "      <td>1</td>\n",
       "      <td>548.1</td>\n",
       "      <td>28.1</td>\n",
       "      <td>29.2</td>\n",
       "    </tr>\n",
       "    <tr>\n",
       "      <th>4837</th>\n",
       "      <td>2024 / 08</td>\n",
       "      <td>11</td>\n",
       "      <td>3390.1</td>\n",
       "      <td>270.6</td>\n",
       "      <td>326.5</td>\n",
       "    </tr>\n",
       "    <tr>\n",
       "      <th>4838</th>\n",
       "      <td>2024 / 09</td>\n",
       "      <td>6</td>\n",
       "      <td>543.0</td>\n",
       "      <td>33.9</td>\n",
       "      <td>41.4</td>\n",
       "    </tr>\n",
       "  </tbody>\n",
       "</table>\n",
       "<p>108 rows × 5 columns</p>\n",
       "</div>"
      ],
      "text/plain": [
       "          MONTH  COMMUNITYDISTRICT  REFUSETONSCOLLECTED  PAPERTONSCOLLECTED  \\\n",
       "570   2024 / 02                  7               3233.3               246.7   \n",
       "1036  2024 / 07                  2               1651.4                89.4   \n",
       "4728  2024 / 01                  5               3389.6               223.2   \n",
       "4730  2024 / 01                  4               4032.6               250.7   \n",
       "4731  2024 / 01                 12               3819.6               319.7   \n",
       "...         ...                ...                  ...                 ...   \n",
       "4834  2024 / 08                  4               4139.1               240.2   \n",
       "4835  2024 / 07                 11               3440.1               263.1   \n",
       "4836  2024 / 09                  1                548.1                28.1   \n",
       "4837  2024 / 08                 11               3390.1               270.6   \n",
       "4838  2024 / 09                  6                543.0                33.9   \n",
       "\n",
       "      MGPTONSCOLLECTED  \n",
       "570              387.3  \n",
       "1036             123.9  \n",
       "4728             334.1  \n",
       "4730             337.1  \n",
       "4731             572.0  \n",
       "...                ...  \n",
       "4834             317.3  \n",
       "4835             323.9  \n",
       "4836              29.2  \n",
       "4837             326.5  \n",
       "4838              41.4  \n",
       "\n",
       "[108 rows x 5 columns]"
      ]
     },
     "execution_count": 4,
     "metadata": {},
     "output_type": "execute_result"
    }
   ],
   "source": [
    "bx_2024_df = df[df[\"MONTH\"].str.contains(\"2024\") == True]\n",
    "bx_2024_df"
   ]
  },
  {
   "cell_type": "markdown",
   "id": "ef11a61d-389a-4b39-8f5a-764634a3a155",
   "metadata": {},
   "source": [
    "### By borough"
   ]
  },
  {
   "cell_type": "code",
   "execution_count": 5,
   "id": "2ff6043a-7d8a-4c3d-8e0e-cd538cd8eb76",
   "metadata": {},
   "outputs": [
    {
     "data": {
      "text/plain": [
       "291381.9999999999"
      ]
     },
     "execution_count": 5,
     "metadata": {},
     "output_type": "execute_result"
    }
   ],
   "source": [
    "bx_2024_df[\"REFUSETONSCOLLECTED\"].sum()"
   ]
  },
  {
   "cell_type": "code",
   "execution_count": 6,
   "id": "25c217c5-ab13-4e48-839b-5391125d1925",
   "metadata": {},
   "outputs": [
    {
     "data": {
      "text/plain": [
       "20938.999999999996"
      ]
     },
     "execution_count": 6,
     "metadata": {},
     "output_type": "execute_result"
    }
   ],
   "source": [
    "bx_2024_df[\"PAPERTONSCOLLECTED\"].sum()"
   ]
  },
  {
   "cell_type": "code",
   "execution_count": 7,
   "id": "6a252a42-c174-4cb8-b955-29f7b544dacd",
   "metadata": {},
   "outputs": [
    {
     "data": {
      "text/plain": [
       "29248.800000000007"
      ]
     },
     "execution_count": 7,
     "metadata": {},
     "output_type": "execute_result"
    }
   ],
   "source": [
    "bx_2024_df[\"MGPTONSCOLLECTED\"].sum()"
   ]
  },
  {
   "cell_type": "markdown",
   "id": "c5161325-f30a-4cb2-943f-a2939f901857",
   "metadata": {},
   "source": [
    "### By community district"
   ]
  },
  {
   "cell_type": "code",
   "execution_count": 8,
   "id": "49b5b34b-3ec0-4b6d-b2a8-f6021508807e",
   "metadata": {},
   "outputs": [
    {
     "data": {
      "text/plain": [
       "COMMUNITYDISTRICT\n",
       "12    33364.9\n",
       "4     32699.7\n",
       "9     31201.0\n",
       "7     30117.8\n",
       "5     27720.9\n",
       "11    26212.7\n",
       "10    21927.5\n",
       "6     19513.8\n",
       "1     19168.9\n",
       "8     18765.1\n",
       "3     17798.0\n",
       "2     12891.7\n",
       "Name: REFUSETONSCOLLECTED, dtype: float64"
      ]
     },
     "execution_count": 8,
     "metadata": {},
     "output_type": "execute_result"
    }
   ],
   "source": [
    "bx_2024_df.groupby(\"COMMUNITYDISTRICT\")[\"REFUSETONSCOLLECTED\"].sum().sort_values(ascending=False)"
   ]
  },
  {
   "cell_type": "code",
   "execution_count": 9,
   "id": "8e746dc3-6bb2-4d17-94ce-85a180f27b77",
   "metadata": {},
   "outputs": [
    {
     "data": {
      "text/plain": [
       "<Axes: ylabel='COMMUNITYDISTRICT'>"
      ]
     },
     "execution_count": 9,
     "metadata": {},
     "output_type": "execute_result"
    },
    {
     "data": {
      "image/png": "[encoded data removed]",
      "text/plain": [
       "<Figure size 640x480 with 1 Axes>"
      ]
     },
     "metadata": {},
     "output_type": "display_data"
    }
   ],
   "source": [
    "bx_2024_df.groupby(\"COMMUNITYDISTRICT\")[\"REFUSETONSCOLLECTED\"].sum().sort_values().plot(kind='barh')"
   ]
  },
  {
   "cell_type": "code",
   "execution_count": 10,
   "id": "4a91287e-016c-4b37-a79b-13c6e3902e8d",
   "metadata": {},
   "outputs": [
    {
     "data": {
      "text/plain": [
       "COMMUNITYDISTRICT\n",
       "12    2391.8\n",
       "8     2328.8\n",
       "7     2273.6\n",
       "10    2230.8\n",
       "11    2162.7\n",
       "4     1948.5\n",
       "9     1803.9\n",
       "5     1677.4\n",
       "6     1167.4\n",
       "3     1089.1\n",
       "1     1040.0\n",
       "2      825.0\n",
       "Name: PAPERTONSCOLLECTED, dtype: float64"
      ]
     },
     "execution_count": 10,
     "metadata": {},
     "output_type": "execute_result"
    }
   ],
   "source": [
    "bx_2024_df.groupby(\"COMMUNITYDISTRICT\")[\"PAPERTONSCOLLECTED\"].sum().sort_values(ascending=False)"
   ]
  },
  {
   "cell_type": "code",
   "execution_count": 11,
   "id": "551c79b0-169b-46bc-b2da-f92285d7ad6d",
   "metadata": {},
   "outputs": [
    {
     "data": {
      "text/plain": [
       "<Axes: ylabel='COMMUNITYDISTRICT'>"
      ]
     },
     "execution_count": 11,
     "metadata": {},
     "output_type": "execute_result"
    },
    {
     "data": {
      "image/png": "[encoded data removed]",
      "text/plain": [
       "<Figure size 640x480 with 1 Axes>"
      ]
     },
     "metadata": {},
     "output_type": "display_data"
    }
   ],
   "source": [
    "bx_2024_df.groupby(\"COMMUNITYDISTRICT\")[\"PAPERTONSCOLLECTED\"].sum().sort_values().plot(kind='barh')"
   ]
  },
  {
   "cell_type": "code",
   "execution_count": 12,
   "id": "bac7b373-dc02-4e09-8334-08952397e70c",
   "metadata": {},
   "outputs": [
    {
     "data": {
      "text/plain": [
       "COMMUNITYDISTRICT\n",
       "12    4632.0\n",
       "7     3466.2\n",
       "9     2988.8\n",
       "8     2816.2\n",
       "10    2723.2\n",
       "11    2573.4\n",
       "4     2552.3\n",
       "5     2539.0\n",
       "6     1492.9\n",
       "3     1252.9\n",
       "2     1108.2\n",
       "1     1103.7\n",
       "Name: MGPTONSCOLLECTED, dtype: float64"
      ]
     },
     "execution_count": 12,
     "metadata": {},
     "output_type": "execute_result"
    }
   ],
   "source": [
    "bx_2024_df.groupby(\"COMMUNITYDISTRICT\")[\"MGPTONSCOLLECTED\"].sum().sort_values(ascending=False)"
   ]
  },
  {
   "cell_type": "code",
   "execution_count": 13,
   "id": "73aabd1c-efb4-459c-847f-f2ec0f32f3c9",
   "metadata": {},
   "outputs": [
    {
     "data": {
      "text/plain": [
       "<Axes: ylabel='COMMUNITYDISTRICT'>"
      ]
     },
     "execution_count": 13,
     "metadata": {},
     "output_type": "execute_result"
    },
    {
     "data": {
      "image/png": "[encoded data removed]",
      "text/plain": [
       "<Figure size 640x480 with 1 Axes>"
      ]
     },
     "metadata": {},
     "output_type": "display_data"
    }
   ],
   "source": [
    "bx_2024_df.groupby(\"COMMUNITYDISTRICT\")[\"MGPTONSCOLLECTED\"].sum().sort_values().plot(kind='barh')"
   ]
  },
  {
   "cell_type": "code",
   "execution_count": null,
   "id": "fab88087-0840-4f5a-a582-368b4323a226",
   "metadata": {},
   "outputs": [],
   "source": []
  }
 ],
 "metadata": {
  "kernelspec": {
   "display_name": "Python 3 (ipykernel)",
   "language": "python",
   "name": "python3"
  },
  "language_info": {
   "codemirror_mode": {
    "name": "ipython",
    "version": 3
   },
   "file_extension": ".py",
   "mimetype": "text/x-python",
   "name": "python",
   "nbconvert_exporter": "python",
   "pygments_lexer": "ipython3",
   "version": "3.11.8"
  }
 },
 "nbformat": 4,
 "nbformat_minor": 5
}
