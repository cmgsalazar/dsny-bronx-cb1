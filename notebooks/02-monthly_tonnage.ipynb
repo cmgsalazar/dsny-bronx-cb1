{
 "cells": [
  {
   "cell_type": "code",
   "execution_count": 1,
   "id": "2bec2d1b-c8b3-40ac-afc5-d6b6baa7be7a",
   "metadata": {},
   "outputs": [],
   "source": [
    "import pandas as pd"
   ]
  },
  {
   "cell_type": "code",
   "execution_count": 2,
   "id": "0b62a6ef-6f4e-48f2-b011-d152a0e9e357",
   "metadata": {},
   "outputs": [
    {
     "data": {
      "text/plain": [
       "MONTH                   object\n",
       "BOROUGH                 object\n",
       "COMMUNITYDISTRICT       object\n",
       "REFUSETONSCOLLECTED    float64\n",
       "PAPERTONSCOLLECTED     float64\n",
       "MGPTONSCOLLECTED       float64\n",
       "RESORGANICSTONS        float64\n",
       "SCHOOLORGANICTONS      float64\n",
       "LEAVESORGANICTONS      float64\n",
       "XMASTREETONS           float64\n",
       "BOROUGH_ID             float64\n",
       "dtype: object"
      ]
     },
     "execution_count": 2,
     "metadata": {},
     "output_type": "execute_result"
    }
   ],
   "source": [
    "# initializing monthly tonnage data\n",
    "\n",
    "df = pd.read_csv(\"raw-data/DSNY_Monthly_Tonnage_Data_20240922.csv\")\n",
    "df.dtypes"
   ]
  },
  {
   "cell_type": "code",
   "execution_count": 3,
   "id": "524a3677-4df4-4aac-b395-b5c228c7db71",
   "metadata": {},
   "outputs": [
    {
     "data": {
      "text/plain": [
       "23886"
      ]
     },
     "execution_count": 3,
     "metadata": {},
     "output_type": "execute_result"
    }
   ],
   "source": [
    "len(df)"
   ]
  },
  {
   "cell_type": "code",
   "execution_count": 4,
   "id": "a034ab31-4014-495a-a3d5-45ed936f9a73",
   "metadata": {},
   "outputs": [],
   "source": [
    "# filtering only Bronx\n",
    "\n",
    "bronx_df = df[df[\"BOROUGH\"] == \"Bronx\"]"
   ]
  },
  {
   "cell_type": "code",
   "execution_count": 5,
   "id": "d272cb96-a9e2-4754-b3bd-85c352f8c9a5",
   "metadata": {},
   "outputs": [
    {
     "data": {
      "text/plain": [
       "COMMUNITYDISTRICT\n",
       "06    405\n",
       "11    405\n",
       "10    405\n",
       "09    405\n",
       "12    405\n",
       "08    403\n",
       "04    402\n",
       "05    402\n",
       "02    402\n",
       "01    402\n",
       "07    402\n",
       "03    401\n",
       "Name: count, dtype: int64"
      ]
     },
     "execution_count": 5,
     "metadata": {},
     "output_type": "execute_result"
    }
   ],
   "source": [
    "# counting data per community district\n",
    "\n",
    "bronx_df[\"COMMUNITYDISTRICT\"].value_counts()"
   ]
  },
  {
   "cell_type": "code",
   "execution_count": 6,
   "id": "0fc985d1-ab1b-4a73-8a4c-46e7829c45c2",
   "metadata": {},
   "outputs": [],
   "source": [
    "# filtering CB1 in Bronx\n",
    "\n",
    "bronx_cb1_df = bronx_df[bronx_df[\"COMMUNITYDISTRICT\"] == \"01\"]"
   ]
  },
  {
   "cell_type": "code",
   "execution_count": 7,
   "id": "0674e74c-a5e0-4c37-b8c3-274c9421069e",
   "metadata": {},
   "outputs": [
    {
     "data": {
      "text/plain": [
       "402"
      ]
     },
     "execution_count": 7,
     "metadata": {},
     "output_type": "execute_result"
    }
   ],
   "source": [
    "len(bronx_cb1_df)"
   ]
  },
  {
   "cell_type": "code",
   "execution_count": 8,
   "id": "6209d1f8-06cf-4d5e-82b9-4b631c11bebf",
   "metadata": {},
   "outputs": [
    {
     "data": {
      "text/html": [
       "<div>\n",
       "<style scoped>\n",
       "    .dataframe tbody tr th:only-of-type {\n",
       "        vertical-align: middle;\n",
       "    }\n",
       "\n",
       "    .dataframe tbody tr th {\n",
       "        vertical-align: top;\n",
       "    }\n",
       "\n",
       "    .dataframe thead th {\n",
       "        text-align: right;\n",
       "    }\n",
       "</style>\n",
       "<table border=\"1\" class=\"dataframe\">\n",
       "  <thead>\n",
       "    <tr style=\"text-align: right;\">\n",
       "      <th></th>\n",
       "      <th>MONTH</th>\n",
       "      <th>BOROUGH</th>\n",
       "      <th>COMMUNITYDISTRICT</th>\n",
       "      <th>REFUSETONSCOLLECTED</th>\n",
       "      <th>PAPERTONSCOLLECTED</th>\n",
       "      <th>MGPTONSCOLLECTED</th>\n",
       "      <th>RESORGANICSTONS</th>\n",
       "      <th>SCHOOLORGANICTONS</th>\n",
       "      <th>LEAVESORGANICTONS</th>\n",
       "      <th>XMASTREETONS</th>\n",
       "      <th>BOROUGH_ID</th>\n",
       "    </tr>\n",
       "  </thead>\n",
       "  <tbody>\n",
       "    <tr>\n",
       "      <th>23874</th>\n",
       "      <td>2024 / 09</td>\n",
       "      <td>Bronx</td>\n",
       "      <td>01</td>\n",
       "      <td>548.1</td>\n",
       "      <td>28.1</td>\n",
       "      <td>29.2</td>\n",
       "      <td>NaN</td>\n",
       "      <td>6.8</td>\n",
       "      <td>NaN</td>\n",
       "      <td>NaN</td>\n",
       "      <td>2.0</td>\n",
       "    </tr>\n",
       "    <tr>\n",
       "      <th>23783</th>\n",
       "      <td>2024 / 08</td>\n",
       "      <td>Bronx</td>\n",
       "      <td>01</td>\n",
       "      <td>2393.9</td>\n",
       "      <td>130.1</td>\n",
       "      <td>133.4</td>\n",
       "      <td>NaN</td>\n",
       "      <td>12.6</td>\n",
       "      <td>NaN</td>\n",
       "      <td>NaN</td>\n",
       "      <td>2.0</td>\n",
       "    </tr>\n",
       "    <tr>\n",
       "      <th>23700</th>\n",
       "      <td>2024 / 07</td>\n",
       "      <td>Bronx</td>\n",
       "      <td>01</td>\n",
       "      <td>2451.9</td>\n",
       "      <td>141.3</td>\n",
       "      <td>153.1</td>\n",
       "      <td>NaN</td>\n",
       "      <td>30.7</td>\n",
       "      <td>NaN</td>\n",
       "      <td>NaN</td>\n",
       "      <td>2.0</td>\n",
       "    </tr>\n",
       "    <tr>\n",
       "      <th>23638</th>\n",
       "      <td>2024 / 06</td>\n",
       "      <td>Bronx</td>\n",
       "      <td>01</td>\n",
       "      <td>2305.4</td>\n",
       "      <td>117.2</td>\n",
       "      <td>127.3</td>\n",
       "      <td>NaN</td>\n",
       "      <td>NaN</td>\n",
       "      <td>NaN</td>\n",
       "      <td>NaN</td>\n",
       "      <td>2.0</td>\n",
       "    </tr>\n",
       "    <tr>\n",
       "      <th>23600</th>\n",
       "      <td>2024 / 05</td>\n",
       "      <td>Bronx</td>\n",
       "      <td>01</td>\n",
       "      <td>2436.1</td>\n",
       "      <td>119.8</td>\n",
       "      <td>126.4</td>\n",
       "      <td>NaN</td>\n",
       "      <td>NaN</td>\n",
       "      <td>NaN</td>\n",
       "      <td>NaN</td>\n",
       "      <td>2.0</td>\n",
       "    </tr>\n",
       "    <tr>\n",
       "      <th>23550</th>\n",
       "      <td>2024 / 04</td>\n",
       "      <td>Bronx</td>\n",
       "      <td>01</td>\n",
       "      <td>2293.8</td>\n",
       "      <td>135.2</td>\n",
       "      <td>146.1</td>\n",
       "      <td>NaN</td>\n",
       "      <td>NaN</td>\n",
       "      <td>NaN</td>\n",
       "      <td>NaN</td>\n",
       "      <td>2.0</td>\n",
       "    </tr>\n",
       "    <tr>\n",
       "      <th>23440</th>\n",
       "      <td>2024 / 03</td>\n",
       "      <td>Bronx</td>\n",
       "      <td>01</td>\n",
       "      <td>2293.6</td>\n",
       "      <td>121.9</td>\n",
       "      <td>126.5</td>\n",
       "      <td>NaN</td>\n",
       "      <td>NaN</td>\n",
       "      <td>NaN</td>\n",
       "      <td>NaN</td>\n",
       "      <td>2.0</td>\n",
       "    </tr>\n",
       "    <tr>\n",
       "      <th>23395</th>\n",
       "      <td>2024 / 02</td>\n",
       "      <td>Bronx</td>\n",
       "      <td>01</td>\n",
       "      <td>2059.8</td>\n",
       "      <td>109.3</td>\n",
       "      <td>113.0</td>\n",
       "      <td>NaN</td>\n",
       "      <td>NaN</td>\n",
       "      <td>NaN</td>\n",
       "      <td>NaN</td>\n",
       "      <td>2.0</td>\n",
       "    </tr>\n",
       "    <tr>\n",
       "      <th>23371</th>\n",
       "      <td>2024 / 01</td>\n",
       "      <td>Bronx</td>\n",
       "      <td>01</td>\n",
       "      <td>2386.3</td>\n",
       "      <td>137.1</td>\n",
       "      <td>148.7</td>\n",
       "      <td>NaN</td>\n",
       "      <td>NaN</td>\n",
       "      <td>NaN</td>\n",
       "      <td>4.5</td>\n",
       "      <td>2.0</td>\n",
       "    </tr>\n",
       "  </tbody>\n",
       "</table>\n",
       "</div>"
      ],
      "text/plain": [
       "           MONTH BOROUGH COMMUNITYDISTRICT  REFUSETONSCOLLECTED  \\\n",
       "23874  2024 / 09   Bronx                01                548.1   \n",
       "23783  2024 / 08   Bronx                01               2393.9   \n",
       "23700  2024 / 07   Bronx                01               2451.9   \n",
       "23638  2024 / 06   Bronx                01               2305.4   \n",
       "23600  2024 / 05   Bronx                01               2436.1   \n",
       "23550  2024 / 04   Bronx                01               2293.8   \n",
       "23440  2024 / 03   Bronx                01               2293.6   \n",
       "23395  2024 / 02   Bronx                01               2059.8   \n",
       "23371  2024 / 01   Bronx                01               2386.3   \n",
       "\n",
       "       PAPERTONSCOLLECTED  MGPTONSCOLLECTED  RESORGANICSTONS  \\\n",
       "23874                28.1              29.2              NaN   \n",
       "23783               130.1             133.4              NaN   \n",
       "23700               141.3             153.1              NaN   \n",
       "23638               117.2             127.3              NaN   \n",
       "23600               119.8             126.4              NaN   \n",
       "23550               135.2             146.1              NaN   \n",
       "23440               121.9             126.5              NaN   \n",
       "23395               109.3             113.0              NaN   \n",
       "23371               137.1             148.7              NaN   \n",
       "\n",
       "       SCHOOLORGANICTONS  LEAVESORGANICTONS  XMASTREETONS  BOROUGH_ID  \n",
       "23874                6.8                NaN           NaN         2.0  \n",
       "23783               12.6                NaN           NaN         2.0  \n",
       "23700               30.7                NaN           NaN         2.0  \n",
       "23638                NaN                NaN           NaN         2.0  \n",
       "23600                NaN                NaN           NaN         2.0  \n",
       "23550                NaN                NaN           NaN         2.0  \n",
       "23440                NaN                NaN           NaN         2.0  \n",
       "23395                NaN                NaN           NaN         2.0  \n",
       "23371                NaN                NaN           4.5         2.0  "
      ]
     },
     "execution_count": 8,
     "metadata": {},
     "output_type": "execute_result"
    }
   ],
   "source": [
    "# taking only 2024 data\n",
    "\n",
    "bronx_cb1_df.sort_index(ascending=False).head(9)"
   ]
  },
  {
   "cell_type": "code",
   "execution_count": 9,
   "id": "c85ab779-fd72-4fd4-ba40-ebf7769a6252",
   "metadata": {},
   "outputs": [],
   "source": [
    "# Unable to look at the older data for comparison because it was not regularly updated."
   ]
  },
  {
   "cell_type": "code",
   "execution_count": 10,
   "id": "e51696ea-ae2a-4622-b7dc-759e796710cf",
   "metadata": {},
   "outputs": [],
   "source": [
    "# cleaning CB1 data, for exporting\n",
    "\n",
    "cb1_2024_df = bronx_cb1_df.sort_index(ascending=False).head(9).drop([\"BOROUGH\", \"COMMUNITYDISTRICT\", \"RESORGANICSTONS\",\\\n",
    "                                                                     \"SCHOOLORGANICTONS\",\"LEAVESORGANICTONS\", \"XMASTREETONS\",\\\n",
    "                                                                    \"BOROUGH_ID\"], axis=1)"
   ]
  },
  {
   "cell_type": "code",
   "execution_count": 11,
   "id": "5208bf1e-2c90-457a-9608-1fee8ebb728a",
   "metadata": {},
   "outputs": [],
   "source": [
    "cb1_2024_df.to_csv(\"parsed-data/cb1_2024_monthly_tonnage.csv\", index=False, encoding=\"UTF-8\")"
   ]
  },
  {
   "cell_type": "code",
   "execution_count": 12,
   "id": "2f02ac7b-9153-4115-ae5e-020a01bf63d6",
   "metadata": {},
   "outputs": [],
   "source": [
    "# cleaning Bronx data, for exporting\n",
    "\n",
    "bronx_2024_df = bronx_df.drop([\"BOROUGH\", \"RESORGANICSTONS\",\"SCHOOLORGANICTONS\",\"LEAVESORGANICTONS\",\\\n",
    "                               \"XMASTREETONS\", \"BOROUGH_ID\"], axis=1)"
   ]
  },
  {
   "cell_type": "code",
   "execution_count": 13,
   "id": "ba3b8de6-2d5e-4e33-ab4b-f38344f6506a",
   "metadata": {},
   "outputs": [],
   "source": [
    "bronx_2024_df.to_csv(\"parsed-data/bx_2024_monthly_tonnage.csv\", index=False, encoding=\"UTF-8\")"
   ]
  },
  {
   "cell_type": "code",
   "execution_count": 14,
   "id": "47e5e0af-482d-4468-9b04-7204deca24b8",
   "metadata": {},
   "outputs": [],
   "source": [
    "# repeating the process for manhattan\n",
    "\n",
    "manhattan_df = df[df[\"BOROUGH\"] == \"Manhattan\"]"
   ]
  },
  {
   "cell_type": "code",
   "execution_count": 15,
   "id": "d70f4870-ea10-4b8c-8948-0b26f55991bb",
   "metadata": {},
   "outputs": [],
   "source": [
    "manhattan_df.drop([\"BOROUGH\", \"RESORGANICSTONS\",\"SCHOOLORGANICTONS\",\"LEAVESORGANICTONS\",\\\n",
    "                               \"XMASTREETONS\", \"BOROUGH_ID\"], axis=1).to_csv(\"parsed-data/mn_2024_monthly_tonnage.csv\",\\\n",
    "                               index=False, encoding=\"UTF-8\")"
   ]
  },
  {
   "cell_type": "code",
   "execution_count": 16,
   "id": "a1455292-7f20-4edc-a3f3-65ecff082e70",
   "metadata": {},
   "outputs": [],
   "source": [
    "# repeating the process for queens\n",
    "\n",
    "queens_df = df[df[\"BOROUGH\"] == \"Queens\"]"
   ]
  },
  {
   "cell_type": "code",
   "execution_count": 17,
   "id": "6a6cdf43-455f-401e-9d11-b563d23584ed",
   "metadata": {},
   "outputs": [],
   "source": [
    "queens_df.drop([\"BOROUGH\", \"RESORGANICSTONS\",\"SCHOOLORGANICTONS\",\"LEAVESORGANICTONS\",\\\n",
    "                               \"XMASTREETONS\", \"BOROUGH_ID\"], axis=1).to_csv(\"parsed-data/qn_2024_monthly_tonnage.csv\",\\\n",
    "                               index=False, encoding=\"UTF-8\")"
   ]
  },
  {
   "cell_type": "code",
   "execution_count": 18,
   "id": "d6dfe8b6-03c6-48d6-9b27-28dfd1e3c229",
   "metadata": {},
   "outputs": [],
   "source": [
    "# repeating the process for brooklyn\n",
    "\n",
    "brooklyn_df = df[df[\"BOROUGH\"] == \"Brooklyn\"]"
   ]
  },
  {
   "cell_type": "code",
   "execution_count": 19,
   "id": "2d412de7-7081-49c9-8082-575999adae56",
   "metadata": {},
   "outputs": [],
   "source": [
    "brooklyn_df.drop([\"BOROUGH\", \"RESORGANICSTONS\",\"SCHOOLORGANICTONS\",\"LEAVESORGANICTONS\",\\\n",
    "                               \"XMASTREETONS\", \"BOROUGH_ID\"], axis=1).to_csv(\"parsed-data/bk_2024_monthly_tonnage.csv\",\\\n",
    "                               index=False, encoding=\"UTF-8\")"
   ]
  },
  {
   "cell_type": "code",
   "execution_count": 20,
   "id": "f406084e-11bf-4dc5-8ffb-c0f85a13f031",
   "metadata": {},
   "outputs": [],
   "source": [
    "# repeating the process for staten island\n",
    "\n",
    "staten_df = df[df[\"BOROUGH\"] == \"Staten Island\"]"
   ]
  },
  {
   "cell_type": "code",
   "execution_count": 21,
   "id": "844da1b9-7950-49af-a969-8cb2685e1333",
   "metadata": {},
   "outputs": [],
   "source": [
    "staten_df.drop([\"BOROUGH\", \"RESORGANICSTONS\",\"SCHOOLORGANICTONS\",\"LEAVESORGANICTONS\",\\\n",
    "                               \"XMASTREETONS\", \"BOROUGH_ID\"], axis=1).to_csv(\"parsed-data/si_2024_monthly_tonnage.csv\",\\\n",
    "                               index=False, encoding=\"UTF-8\")"
   ]
  },
  {
   "cell_type": "code",
   "execution_count": null,
   "id": "afd7f6ab-19a4-4f81-96b9-426604558313",
   "metadata": {},
   "outputs": [],
   "source": []
  }
 ],
 "metadata": {
  "kernelspec": {
   "display_name": "Python 3 (ipykernel)",
   "language": "python",
   "name": "python3"
  },
  "language_info": {
   "codemirror_mode": {
    "name": "ipython",
    "version": 3
   },
   "file_extension": ".py",
   "mimetype": "text/x-python",
   "name": "python",
   "nbconvert_exporter": "python",
   "pygments_lexer": "ipython3",
   "version": "3.11.8"
  }
 },
 "nbformat": 4,
 "nbformat_minor": 5
}
