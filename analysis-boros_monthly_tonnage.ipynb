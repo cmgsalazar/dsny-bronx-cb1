{
 "cells": [
  {
   "cell_type": "code",
   "execution_count": 1,
   "id": "e0f0ed24-d2f8-4152-9eaa-9ecaa19a3cd7",
   "metadata": {},
   "outputs": [],
   "source": [
    "import pandas as pd"
   ]
  },
  {
   "cell_type": "code",
   "execution_count": 68,
   "id": "b12c2ac9-d966-46b7-92ac-8c509ab42c71",
   "metadata": {},
   "outputs": [],
   "source": [
    "refuse_df = []\n",
    "\n",
    "def refuse_tons(df):\n",
    "    return df[\"REFUSETONSCOLLECTED\"].sum()"
   ]
  },
  {
   "cell_type": "code",
   "execution_count": 69,
   "id": "dbbebd74-8ede-4e24-a90b-e4500d280b72",
   "metadata": {},
   "outputs": [],
   "source": [
    "paper_df = []\n",
    "\n",
    "def paper_tons(df):\n",
    "    return df[\"PAPERTONSCOLLECTED\"].sum()"
   ]
  },
  {
   "cell_type": "code",
   "execution_count": 70,
   "id": "e164d915-5b0c-4828-bb72-64861745e8db",
   "metadata": {},
   "outputs": [],
   "source": [
    "mgp_tons = []\n",
    "\n",
    "def mgp_tons(df):\n",
    "    return df[\"MGPTONSCOLLECTED\"].sum()"
   ]
  },
  {
   "cell_type": "code",
   "execution_count": 57,
   "id": "769fc059-0b86-4c67-b9bc-1de13ae54d04",
   "metadata": {},
   "outputs": [
    {
     "data": {
      "text/plain": [
       "MONTH                   object\n",
       "COMMUNITYDISTRICT        int64\n",
       "REFUSETONSCOLLECTED    float64\n",
       "PAPERTONSCOLLECTED     float64\n",
       "MGPTONSCOLLECTED       float64\n",
       "dtype: object"
      ]
     },
     "execution_count": 57,
     "metadata": {},
     "output_type": "execute_result"
    }
   ],
   "source": [
    "# Bronx\n",
    "\n",
    "df = pd.read_csv(\"parsed-data/bx_2024_monthly_tonnage.csv\")\n",
    "df.dtypes"
   ]
  },
  {
   "cell_type": "code",
   "execution_count": 58,
   "id": "6e3d0b17-00b9-4708-8c20-ee02c8dc13b8",
   "metadata": {},
   "outputs": [
    {
     "data": {
      "text/plain": [
       "14414049.4"
      ]
     },
     "execution_count": 58,
     "metadata": {},
     "output_type": "execute_result"
    }
   ],
   "source": [
    "refuse_tons(df)"
   ]
  },
  {
   "cell_type": "code",
   "execution_count": 73,
   "id": "ce80ee18-a5d5-4990-a430-6bdb7e0e0207",
   "metadata": {},
   "outputs": [],
   "source": [
    "refuse_df.append({\n",
    "    \"Bronx\": refuse_tons(df)\n",
    "})"
   ]
  },
  {
   "cell_type": "code",
   "execution_count": 74,
   "id": "62dea3d0-9e88-4c64-85bf-2c01df0b7182",
   "metadata": {},
   "outputs": [
    {
     "data": {
      "text/plain": [
       "2738676.5999999996"
      ]
     },
     "execution_count": 74,
     "metadata": {},
     "output_type": "execute_result"
    }
   ],
   "source": [
    "paper_tons(df)"
   ]
  },
  {
   "cell_type": "code",
   "execution_count": 9,
   "id": "cd363b41-5548-4c5c-bddf-111810f5be54",
   "metadata": {},
   "outputs": [],
   "source": [
    "paper_df = {\n",
    "    \"Bronx\": paper_tons(df)\n",
    "}"
   ]
  },
  {
   "cell_type": "code",
   "execution_count": 10,
   "id": "9527da00-ebe9-4dd4-b7e2-e91360e000f1",
   "metadata": {},
   "outputs": [
    {
     "data": {
      "text/plain": [
       "1060507.7999999998"
      ]
     },
     "execution_count": 10,
     "metadata": {},
     "output_type": "execute_result"
    }
   ],
   "source": [
    "mgp_tons(df)"
   ]
  },
  {
   "cell_type": "code",
   "execution_count": 11,
   "id": "d41b4fc4-a1ce-479d-86d0-02108eb5c910",
   "metadata": {},
   "outputs": [],
   "source": [
    "mgp_df = {\n",
    "    \"Bronx\": mgp_tons(df)\n",
    "}"
   ]
  },
  {
   "cell_type": "code",
   "execution_count": 54,
   "id": "c3a42000-1309-455d-9f62-72984514a933",
   "metadata": {},
   "outputs": [
    {
     "data": {
      "text/plain": [
       "MONTH                   object\n",
       "COMMUNITYDISTRICT        int64\n",
       "REFUSETONSCOLLECTED    float64\n",
       "PAPERTONSCOLLECTED     float64\n",
       "MGPTONSCOLLECTED       float64\n",
       "dtype: object"
      ]
     },
     "execution_count": 54,
     "metadata": {},
     "output_type": "execute_result"
    }
   ],
   "source": [
    "# Manhattan\n",
    "\n",
    "df = pd.read_csv(\"parsed-data/mn_2024_monthly_tonnage.csv\")\n",
    "df.dtypes"
   ]
  },
  {
   "cell_type": "code",
   "execution_count": 55,
   "id": "886c1758-1c76-4a62-8f8d-9610fc4cf2b7",
   "metadata": {},
   "outputs": [],
   "source": [
    "refuse_df = {\n",
    "    \"Manhattan\": refuse_tons(df)\n",
    "}"
   ]
  },
  {
   "cell_type": "code",
   "execution_count": 14,
   "id": "6c7b3d67-6b51-444d-8254-cd5f49986db5",
   "metadata": {},
   "outputs": [],
   "source": [
    "paper_df = {\n",
    "    \"Manhattan\": paper_tons(df)\n",
    "}"
   ]
  },
  {
   "cell_type": "code",
   "execution_count": 15,
   "id": "6b1baf0a-37ff-4d31-90b6-f9bf933c670c",
   "metadata": {},
   "outputs": [],
   "source": [
    "mgp_df = {\n",
    "    \"Manhattan\": mgp_tons(df)\n",
    "}"
   ]
  },
  {
   "cell_type": "code",
   "execution_count": 60,
   "id": "82f77ade-d362-4779-a326-1fa376cdd4b6",
   "metadata": {},
   "outputs": [
    {
     "data": {
      "text/plain": [
       "MONTH                   object\n",
       "COMMUNITYDISTRICT        int64\n",
       "REFUSETONSCOLLECTED    float64\n",
       "PAPERTONSCOLLECTED     float64\n",
       "MGPTONSCOLLECTED       float64\n",
       "dtype: object"
      ]
     },
     "execution_count": 60,
     "metadata": {},
     "output_type": "execute_result"
    }
   ],
   "source": [
    "# Brooklyn\n",
    "\n",
    "df = pd.read_csv(\"parsed-data/bk_2024_monthly_tonnage.csv\")\n",
    "df.dtypes"
   ]
  },
  {
   "cell_type": "code",
   "execution_count": 61,
   "id": "09fac2e5-c7dd-40c6-ac7b-c923756b491d",
   "metadata": {},
   "outputs": [],
   "source": [
    "refuse_df.append({\n",
    "    \"Brooklyn\": refuse_tons(df)\n",
    "})"
   ]
  },
  {
   "cell_type": "code",
   "execution_count": 18,
   "id": "95ebab3a-5a1c-4e70-b6e5-d0bc3f9293a4",
   "metadata": {},
   "outputs": [],
   "source": [
    "paper_df = {\n",
    "    \"Brooklyn\": paper_tons(df)\n",
    "}"
   ]
  },
  {
   "cell_type": "code",
   "execution_count": 19,
   "id": "6660f6cd-e16a-4977-ae98-de6cb96c885b",
   "metadata": {},
   "outputs": [],
   "source": [
    "mgp_df = {\n",
    "    \"Brooklyn\": mgp_tons(df)\n",
    "}"
   ]
  },
  {
   "cell_type": "code",
   "execution_count": 20,
   "id": "85beb169-1ffe-4249-90f4-3a7b0a998292",
   "metadata": {},
   "outputs": [
    {
     "data": {
      "text/plain": [
       "MONTH                   object\n",
       "COMMUNITYDISTRICT       object\n",
       "REFUSETONSCOLLECTED    float64\n",
       "PAPERTONSCOLLECTED     float64\n",
       "MGPTONSCOLLECTED       float64\n",
       "dtype: object"
      ]
     },
     "execution_count": 20,
     "metadata": {},
     "output_type": "execute_result"
    }
   ],
   "source": [
    "# Queens\n",
    "\n",
    "df = pd.read_csv(\"parsed-data/qn_2024_monthly_tonnage.csv\")\n",
    "df.dtypes"
   ]
  },
  {
   "cell_type": "code",
   "execution_count": 21,
   "id": "cd5dc3af-4dd2-49a7-8b27-99b8ab9e9033",
   "metadata": {},
   "outputs": [],
   "source": [
    "refuse_df = {\n",
    "    \"Queens\": refuse_tons(df)\n",
    "}"
   ]
  },
  {
   "cell_type": "code",
   "execution_count": 22,
   "id": "7f337dd5-6d87-4db6-bee0-e490c986c5c3",
   "metadata": {},
   "outputs": [],
   "source": [
    "paper_df = {\n",
    "    \"Queens\": paper_tons(df)\n",
    "}"
   ]
  },
  {
   "cell_type": "code",
   "execution_count": 23,
   "id": "2b08ef56-8003-42f3-99ac-2763196c9be2",
   "metadata": {},
   "outputs": [],
   "source": [
    "mgp_df = {\n",
    "    \"Queens\": mgp_tons(df)\n",
    "}"
   ]
  },
  {
   "cell_type": "code",
   "execution_count": 34,
   "id": "3d7937a4-99ee-478e-af77-139fdd524a85",
   "metadata": {},
   "outputs": [
    {
     "data": {
      "text/plain": [
       "MONTH                   object\n",
       "COMMUNITYDISTRICT        int64\n",
       "REFUSETONSCOLLECTED    float64\n",
       "PAPERTONSCOLLECTED     float64\n",
       "MGPTONSCOLLECTED       float64\n",
       "dtype: object"
      ]
     },
     "execution_count": 34,
     "metadata": {},
     "output_type": "execute_result"
    }
   ],
   "source": [
    "# Staten Island\n",
    "\n",
    "df = pd.read_csv(\"parsed-data/si_2024_monthly_tonnage.csv\")\n",
    "df.dtypes"
   ]
  },
  {
   "cell_type": "code",
   "execution_count": 35,
   "id": "100d3193-b226-427c-8016-f55f4232ff5f",
   "metadata": {},
   "outputs": [],
   "source": [
    "refuse_df = {\n",
    "    \"Staten Island\": refuse_tons(df)\n",
    "}"
   ]
  },
  {
   "cell_type": "code",
   "execution_count": 26,
   "id": "df906029-76b5-43e9-884f-15c64e2286fe",
   "metadata": {},
   "outputs": [],
   "source": [
    "paper_df = {\n",
    "    \"Staten Island\": paper_tons(df)\n",
    "}"
   ]
  },
  {
   "cell_type": "code",
   "execution_count": 27,
   "id": "495a8a29-0ebf-4692-8278-0abc933625d9",
   "metadata": {},
   "outputs": [],
   "source": [
    "mgp_df = {\n",
    "    \"Staten Island\": mgp_tons(df)\n",
    "}"
   ]
  },
  {
   "cell_type": "markdown",
   "id": "fb587933-e80c-4eea-bddd-12054f4b3ef7",
   "metadata": {},
   "source": [
    "### Checking total dfs"
   ]
  },
  {
   "cell_type": "code",
   "execution_count": 67,
   "id": "10bbb756-53c5-4c22-9382-423451de5fe9",
   "metadata": {},
   "outputs": [
    {
     "ename": "TypeError",
     "evalue": "list indices must be integers or slices, not tuple",
     "output_type": "error",
     "traceback": [
      "\u001b[0;31m---------------------------------------------------------------------------\u001b[0m",
      "\u001b[0;31mTypeError\u001b[0m                                 Traceback (most recent call last)",
      "Cell \u001b[0;32mIn[67], line 1\u001b[0m\n\u001b[0;32m----> 1\u001b[0m pd\u001b[38;5;241m.\u001b[39mDataFrame(\u001b[43mrefuse_df\u001b[49m\u001b[43m[\u001b[49m\u001b[38;5;124;43m\"\u001b[39;49m\u001b[38;5;124;43mBronx\u001b[39;49m\u001b[38;5;124;43m\"\u001b[39;49m\u001b[43m,\u001b[49m\u001b[43m \u001b[49m\u001b[38;5;124;43m\"\u001b[39;49m\u001b[38;5;124;43mBrooklyn\u001b[39;49m\u001b[38;5;124;43m\"\u001b[39;49m\u001b[43m]\u001b[49m)\n",
      "\u001b[0;31mTypeError\u001b[0m: list indices must be integers or slices, not tuple"
     ]
    }
   ],
   "source": [
    "pd.DataFrame(refuse_df[\"Bronx\", \"Brooklyn\"])"
   ]
  },
  {
   "cell_type": "code",
   "execution_count": 64,
   "id": "a26534fb-33c7-4474-90f1-1c412963a5b9",
   "metadata": {},
   "outputs": [
    {
     "ename": "AttributeError",
     "evalue": "'list' object has no attribute 'plot'",
     "output_type": "error",
     "traceback": [
      "\u001b[0;31m---------------------------------------------------------------------------\u001b[0m",
      "\u001b[0;31mAttributeError\u001b[0m                            Traceback (most recent call last)",
      "Cell \u001b[0;32mIn[64], line 1\u001b[0m\n\u001b[0;32m----> 1\u001b[0m \u001b[43mrefuse_df\u001b[49m\u001b[38;5;241;43m.\u001b[39;49m\u001b[43mplot\u001b[49m\n",
      "\u001b[0;31mAttributeError\u001b[0m: 'list' object has no attribute 'plot'"
     ]
    }
   ],
   "source": [
    "refuse_df.plot"
   ]
  },
  {
   "cell_type": "code",
   "execution_count": 12,
   "id": "0fd013d9-3f6f-4b0d-8639-1d1ee3fd6db0",
   "metadata": {},
   "outputs": [
    {
     "ename": "NameError",
     "evalue": "name 'paper_df' is not defined",
     "output_type": "error",
     "traceback": [
      "\u001b[0;31m---------------------------------------------------------------------------\u001b[0m",
      "\u001b[0;31mNameError\u001b[0m                                 Traceback (most recent call last)",
      "Cell \u001b[0;32mIn[12], line 1\u001b[0m\n\u001b[0;32m----> 1\u001b[0m \u001b[43mpaper_df\u001b[49m\n",
      "\u001b[0;31mNameError\u001b[0m: name 'paper_df' is not defined"
     ]
    }
   ],
   "source": [
    "paper_df"
   ]
  },
  {
   "cell_type": "code",
   "execution_count": 13,
   "id": "ad2cfbd3-53a4-4110-a49e-e0dea545c538",
   "metadata": {},
   "outputs": [
    {
     "data": {
      "text/plain": [
       "{'Bronx': 1060507.7999999998}"
      ]
     },
     "execution_count": 13,
     "metadata": {},
     "output_type": "execute_result"
    }
   ],
   "source": [
    "mgp_df"
   ]
  },
  {
   "cell_type": "code",
   "execution_count": null,
   "id": "7e7726ed-1ed6-42f5-abda-83c305590893",
   "metadata": {},
   "outputs": [],
   "source": []
  }
 ],
 "metadata": {
  "kernelspec": {
   "display_name": "Python 3 (ipykernel)",
   "language": "python",
   "name": "python3"
  },
  "language_info": {
   "codemirror_mode": {
    "name": "ipython",
    "version": 3
   },
   "file_extension": ".py",
   "mimetype": "text/x-python",
   "name": "python",
   "nbconvert_exporter": "python",
   "pygments_lexer": "ipython3",
   "version": "3.11.8"
  }
 },
 "nbformat": 4,
 "nbformat_minor": 5
}
